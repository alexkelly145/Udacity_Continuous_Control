{
 "cells": [
  {
   "cell_type": "code",
   "execution_count": 2,
   "metadata": {},
   "outputs": [],
   "source": [
    "# Import dependencies\n",
    "from unityagents import UnityEnvironment\n",
    "import numpy as np\n",
    "from collections import deque, defaultdict,namedtuple\n",
    "import pandas as pd\n",
    "import matplotlib.pyplot as plt\n",
    "import torch"
   ]
  },
  {
   "cell_type": "code",
   "execution_count": 4,
   "metadata": {},
   "outputs": [
    {
     "name": "stderr",
     "output_type": "stream",
     "text": [
      "INFO:unityagents:\n",
      "'Academy' started successfully!\n",
      "Unity Academy name: Academy\n",
      "        Number of Brains: 1\n",
      "        Number of External Brains : 1\n",
      "        Lesson number : 0\n",
      "        Reset Parameters :\n",
      "\t\tgoal_speed -> 1.0\n",
      "\t\tgoal_size -> 5.0\n",
      "Unity brain name: ReacherBrain\n",
      "        Number of Visual Observations (per agent): 0\n",
      "        Vector Observation space type: continuous\n",
      "        Vector Observation space size (per agent): 33\n",
      "        Number of stacked Vector Observation: 1\n",
      "        Vector Action space type: continuous\n",
      "        Vector Action space size (per agent): 4\n",
      "        Vector Action descriptions: , , , \n"
     ]
    }
   ],
   "source": [
    "# Initialise environment\n",
    "env = UnityEnvironment(file_name='Reacher.exe')"
   ]
  },
  {
   "cell_type": "code",
   "execution_count": 5,
   "metadata": {},
   "outputs": [],
   "source": [
    "# get the default brain\n",
    "brain_name = env.brain_names[0]\n",
    "brain = env.brains[brain_name]"
   ]
  },
  {
   "cell_type": "code",
   "execution_count": 6,
   "metadata": {},
   "outputs": [],
   "source": [
    "from ddpg_agent import Agent\n",
    "\n",
    "# Initialise Agent and define hyperparameters\n",
    "agent = Agent(state_size = brain.vector_observation_space_size, action_size = brain.vector_action_space_size,\n",
    "              seed = 0, buffer_size = 10000, batch_size = 256, learning_rate_actor = 1e-3, \n",
    "              learning_rate_critic = 1e-3, e = 1e-5, beta = 0.4, a = 0.5)"
   ]
  },
  {
   "cell_type": "code",
   "execution_count": null,
   "metadata": {},
   "outputs": [
    {
     "name": "stdout",
     "output_type": "stream",
     "text": [
      "Episode 19\tAverage Score: 0.52"
     ]
    }
   ],
   "source": [
    "%%time\n",
    "from replay import ExperienceReplay\n",
    "\n",
    "def ddpg(n_episodes=20000):\n",
    "    \n",
    "    scores = []  # Save scores in a list                      \n",
    "    scores_window = deque(maxlen=100)  # Sliding window list with max length of 100 \n",
    "                    \n",
    "    for i_episode in range(1, n_episodes+1):\n",
    "        env_info = env.reset(train_mode=True)[brain_name]\n",
    "        states = env_info.vector_observations \n",
    "        \n",
    "        score = np.zeros(20)\n",
    "        # Keeps track of time step\n",
    "        t = 0\n",
    "        for t in range(3000):\n",
    "            # choosing next action\n",
    "            actions = agent.act(states)\n",
    "            # running next action through env to get next_state, reward, done\n",
    "            env_info = env.step(actions)[brain_name]\n",
    "            next_states = env_info.vector_observations\n",
    "            rewards = env_info.rewards \n",
    "            dones = env_info.local_done\n",
    "            # Model weights are updated every X time steps\n",
    "            agent.step(states, actions, rewards, next_states, dones, t, 20, 0.9)\n",
    "            # S' -> S\n",
    "            states = next_states\n",
    "            score += rewards\n",
    "            # Adds 1 to time step\n",
    "            t+=1\n",
    "            # Break while loop if done\n",
    "            if np.any(dones):\n",
    "                break \n",
    "        \n",
    "        scores.append(score.tolist())\n",
    "        scores_window.append(np.mean(scores[-100:], axis=0))     \n",
    "         \n",
    "        print('\\rEpisode {}\\tAverage Score: {:.2f}'.format(i_episode, np.mean(scores_window)), end=\"\")\n",
    "        if i_episode % 100 == 0:\n",
    "            print('\\rEpisode {}\\tAverage Score: {:.2f}'.format(i_episode, np.mean(scores_window)))\n",
    "        if np.mean(scores_window)>=30:\n",
    "            print('\\nEnvironment solved in {:d} episodes!\\tAverage Score: {:.2f}'.format(i_episode, np.mean(scores_window)))\n",
    "            torch.save(agent.actor_local.state_dict(), 'checkpoint_actor_per.pth')\n",
    "            torch.save(agent.critic_local.state_dict(), 'checkpoint_critic_per.pth')\n",
    "            break\n",
    "    return scores\n",
    "\n",
    "scores = ddpg()"
   ]
  },
  {
   "cell_type": "code",
   "execution_count": null,
   "metadata": {},
   "outputs": [],
   "source": []
  }
 ],
 "metadata": {
  "kernelspec": {
   "display_name": "drlnd",
   "language": "python",
   "name": "drlnd"
  },
  "language_info": {
   "codemirror_mode": {
    "name": "ipython",
    "version": 3
   },
   "file_extension": ".py",
   "mimetype": "text/x-python",
   "name": "python",
   "nbconvert_exporter": "python",
   "pygments_lexer": "ipython3",
   "version": "3.6.13"
  }
 },
 "nbformat": 4,
 "nbformat_minor": 4
}
